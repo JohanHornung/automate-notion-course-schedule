{
 "cells": [
  {
   "cell_type": "code",
   "execution_count": 1,
   "id": "d100f7f0",
   "metadata": {},
   "outputs": [
    {
     "name": "stdout",
     "output_type": "stream",
     "text": [
      "Requirement already satisfied: requests in /opt/homebrew/lib/python3.10/site-packages (2.27.1)\n",
      "Requirement already satisfied: urllib3<1.27,>=1.21.1 in /opt/homebrew/lib/python3.10/site-packages (from requests) (1.26.9)\n",
      "Requirement already satisfied: certifi>=2017.4.17 in /opt/homebrew/lib/python3.10/site-packages (from requests) (2021.10.8)\n",
      "Requirement already satisfied: charset-normalizer~=2.0.0 in /opt/homebrew/lib/python3.10/site-packages (from requests) (2.0.12)\n",
      "Requirement already satisfied: idna<4,>=2.5 in /opt/homebrew/lib/python3.10/site-packages (from requests) (3.3)\n",
      "\u001b[33mWARNING: There was an error checking the latest version of pip.\u001b[0m\u001b[33m\n",
      "\u001b[0m"
     ]
    }
   ],
   "source": [
    "!pip install requests"
   ]
  },
  {
   "cell_type": "code",
   "execution_count": 1,
   "id": "85205396",
   "metadata": {},
   "outputs": [],
   "source": [
    "import requests\n",
    "import os"
   ]
  },
  {
   "cell_type": "code",
   "execution_count": 2,
   "id": "5df8f175",
   "metadata": {},
   "outputs": [],
   "source": [
    "from secrets import *"
   ]
  },
  {
   "cell_type": "code",
   "execution_count": 3,
   "id": "3ed6aa63",
   "metadata": {},
   "outputs": [
    {
     "data": {
      "text/plain": [
       "'secret_9Vv9Jvzubn3V15iczlRICd3774WL5TtOjN1YOksuSwq'"
      ]
     },
     "execution_count": 3,
     "metadata": {},
     "output_type": "execute_result"
    }
   ],
   "source": [
    "NOTION_INTEGRATION_TOKEN"
   ]
  },
  {
   "cell_type": "code",
   "execution_count": 4,
   "id": "763bd619",
   "metadata": {},
   "outputs": [],
   "source": [
    "base_url = f'https://api.notion.com/v1/databases/{NOTION_DATABASE_ID}'"
   ]
  },
  {
   "cell_type": "code",
   "execution_count": 44,
   "id": "c3317d6e",
   "metadata": {},
   "outputs": [],
   "source": [
    "url = \"https://www.trainex42.de/ba-rm-trainex/cfm/einsatzplan/einsatzplan_listenansicht_kt_druck.cfm?TokCF19=0T5731574169&IDphp17=3P574169&sec18m=7S315741695731574169&1655731574247&akt_dat=%7Bts%20%272022%2D06%2D20%2000%3A00%3A00%27%7D&download=1\""
   ]
  },
  {
   "cell_type": "code",
   "execution_count": 5,
   "id": "7fa3226e",
   "metadata": {},
   "outputs": [],
   "source": [
    "header = {\n",
    "    \"Authorization\": NOTION_INTEGRATION_TOKEN,\n",
    "    \"Notion-Version\": \"2022-02-22\",\n",
    "}"
   ]
  },
  {
   "cell_type": "code",
   "execution_count": 6,
   "id": "57755eb3",
   "metadata": {},
   "outputs": [],
   "source": [
    "payload = {\"page_size\": 100}"
   ]
  },
  {
   "cell_type": "code",
   "execution_count": 19,
   "id": "285c1e2b",
   "metadata": {},
   "outputs": [],
   "source": [
    "data = {\n",
    "    \n",
    "}"
   ]
  },
  {
   "cell_type": "code",
   "execution_count": 11,
   "id": "df483a17",
   "metadata": {},
   "outputs": [],
   "source": [
    "response = requests.post(base_url + \"/query\", json=payload, headers=header)"
   ]
  },
  {
   "cell_type": "code",
   "execution_count": 10,
   "id": "3530084c",
   "metadata": {},
   "outputs": [],
   "source": [
    "response = requests.get(base_url, headers=header)"
   ]
  },
  {
   "cell_type": "code",
   "execution_count": 12,
   "id": "93cabf09",
   "metadata": {},
   "outputs": [
    {
     "data": {
      "text/plain": [
       "200"
      ]
     },
     "execution_count": 12,
     "metadata": {},
     "output_type": "execute_result"
    }
   ],
   "source": [
    "response.status_code"
   ]
  },
  {
   "cell_type": "code",
   "execution_count": null,
   "id": "c0a09da3",
   "metadata": {},
   "outputs": [],
   "source": []
  },
  {
   "cell_type": "code",
   "execution_count": 13,
   "id": "8a0916cd",
   "metadata": {},
   "outputs": [
    {
     "data": {
      "text/plain": [
       "{'object': 'list',\n",
       " 'results': [{'object': 'page',\n",
       "   'id': 'a567a54d-cc3e-44d9-9e4a-36b10ed321f0',\n",
       "   'created_time': '2022-06-27T13:16:00.000Z',\n",
       "   'last_edited_time': '2022-06-27T13:19:00.000Z',\n",
       "   'created_by': {'object': 'user',\n",
       "    'id': 'cddba6b0-afe2-4a48-aa45-b15a96ae32cc'},\n",
       "   'last_edited_by': {'object': 'user',\n",
       "    'id': 'cddba6b0-afe2-4a48-aa45-b15a96ae32cc'},\n",
       "   'cover': None,\n",
       "   'icon': None,\n",
       "   'parent': {'type': 'database_id',\n",
       "    'database_id': '00f8a439-d436-43de-a576-82676a622ce2'},\n",
       "   'archived': False,\n",
       "   'properties': {'Dates': {'id': '0%23%7Dp',\n",
       "     'type': 'date',\n",
       "     'date': {'start': '2022-07-01T08:30:00.000+02:00',\n",
       "      'end': '2022-07-02T11:45:00.000+02:00',\n",
       "      'time_zone': None}},\n",
       "    'Lecturer': {'id': '_%5B%3Da',\n",
       "     'type': 'select',\n",
       "     'select': {'id': 'p|Ym',\n",
       "      'name': 'Prof. Dr. Matthias Maßmann',\n",
       "      'color': 'pink'}},\n",
       "    'Type': {'id': 'f%5E%5E%3B',\n",
       "     'type': 'select',\n",
       "     'select': {'id': 'tS@J', 'name': 'Course 📙📙📙', 'color': 'blue'}},\n",
       "    'Room': {'id': 'qy%7B%7B', 'type': 'number', 'number': 203},\n",
       "    'Topic': {'id': 'v%3CK%5D',\n",
       "     'type': 'select',\n",
       "     'select': {'id': 'R`eJ',\n",
       "      'name': 'Formale Grundlagen der Informatik',\n",
       "      'color': 'green'}},\n",
       "    'Lecture': {'id': 'title',\n",
       "     'type': 'title',\n",
       "     'title': [{'type': 'text',\n",
       "       'text': {'content': 'Formale Grundlagen der Informatik', 'link': None},\n",
       "       'annotations': {'bold': False,\n",
       "        'italic': False,\n",
       "        'strikethrough': False,\n",
       "        'underline': False,\n",
       "        'code': False,\n",
       "        'color': 'default'},\n",
       "       'plain_text': 'Formale Grundlagen der Informatik',\n",
       "       'href': None}]}},\n",
       "   'url': 'https://www.notion.so/Formale-Grundlagen-der-Informatik-a567a54dcc3e44d99e4a36b10ed321f0'}],\n",
       " 'next_cursor': None,\n",
       " 'has_more': False,\n",
       " 'type': 'page',\n",
       " 'page': {}}"
      ]
     },
     "execution_count": 13,
     "metadata": {},
     "output_type": "execute_result"
    }
   ],
   "source": [
    "response.json()"
   ]
  },
  {
   "cell_type": "code",
   "execution_count": 41,
   "id": "f8f6f5a8",
   "metadata": {},
   "outputs": [
    {
     "data": {
      "text/plain": [
       "200"
      ]
     },
     "execution_count": 41,
     "metadata": {},
     "output_type": "execute_result"
    }
   ],
   "source": [
    "response.status_code"
   ]
  },
  {
   "cell_type": "code",
   "execution_count": 80,
   "id": "68d87065",
   "metadata": {},
   "outputs": [],
   "source": [
    "page_id = \"047b5f0d2e914ee48126dd26ca5e0b6a\""
   ]
  },
  {
   "cell_type": "code",
   "execution_count": 83,
   "id": "5ddaf926",
   "metadata": {},
   "outputs": [],
   "source": [
    "url = f\"https://api.notion.com/v1/pages/{page_id}\""
   ]
  },
  {
   "cell_type": "code",
   "execution_count": 85,
   "id": "ce70efed",
   "metadata": {},
   "outputs": [],
   "source": [
    "response = requests.get(url, headers=header)"
   ]
  },
  {
   "cell_type": "code",
   "execution_count": 86,
   "id": "c67ab541",
   "metadata": {
    "scrolled": true
   },
   "outputs": [
    {
     "data": {
      "text/plain": [
       "{'object': 'page',\n",
       " 'id': '047b5f0d-2e91-4ee4-8126-dd26ca5e0b6a',\n",
       " 'created_time': '2022-06-15T14:56:00.000Z',\n",
       " 'last_edited_time': '2022-06-21T20:31:00.000Z',\n",
       " 'created_by': {'object': 'user',\n",
       "  'id': 'cddba6b0-afe2-4a48-aa45-b15a96ae32cc'},\n",
       " 'last_edited_by': {'object': 'user',\n",
       "  'id': 'cddba6b0-afe2-4a48-aa45-b15a96ae32cc'},\n",
       " 'cover': None,\n",
       " 'icon': None,\n",
       " 'parent': {'type': 'database_id',\n",
       "  'database_id': '00f8a439-d436-43de-a576-82676a622ce2'},\n",
       " 'archived': False,\n",
       " 'properties': {'Dates': {'id': '0%23%7Dp',\n",
       "   'type': 'date',\n",
       "   'date': {'start': '2022-07-01T08:30:00.000+02:00',\n",
       "    'end': '2022-07-01T11:45:00.000+02:00',\n",
       "    'time_zone': None}},\n",
       "  'Lecturer': {'id': '_%5B%3Da',\n",
       "   'type': 'select',\n",
       "   'select': {'id': 'p|Ym', 'name': 'Prof. Dr. Maßmann', 'color': 'pink'}},\n",
       "  'Type': {'id': 'f%5E%5E%3B',\n",
       "   'type': 'select',\n",
       "   'select': {'id': 'tS@J', 'name': 'Course 📙📙📙', 'color': 'blue'}},\n",
       "  'Room': {'id': 'qy%7B%7B', 'type': 'number', 'number': 203},\n",
       "  'Topic': {'id': 'v%3CK%5D',\n",
       "   'type': 'multi_select',\n",
       "   'multi_select': [{'id': 'R`eJ', 'name': 'FGI', 'color': 'green'}]},\n",
       "  'Lecture': {'id': 'title',\n",
       "   'type': 'title',\n",
       "   'title': [{'type': 'text',\n",
       "     'text': {'content': 'Formale Grundlagen der Informatik', 'link': None},\n",
       "     'annotations': {'bold': False,\n",
       "      'italic': False,\n",
       "      'strikethrough': False,\n",
       "      'underline': False,\n",
       "      'code': False,\n",
       "      'color': 'default'},\n",
       "     'plain_text': 'Formale Grundlagen der Informatik',\n",
       "     'href': None}]}},\n",
       " 'url': 'https://www.notion.so/Formale-Grundlagen-der-Informatik-047b5f0d2e914ee48126dd26ca5e0b6a'}"
      ]
     },
     "execution_count": 86,
     "metadata": {},
     "output_type": "execute_result"
    }
   ],
   "source": [
    "response.json()"
   ]
  },
  {
   "cell_type": "code",
   "execution_count": 14,
   "id": "7f61e2d4",
   "metadata": {},
   "outputs": [],
   "source": [
    "url = \"https://api.notion.com/v1/pages\""
   ]
  },
  {
   "cell_type": "code",
   "execution_count": 20,
   "id": "b93c3acb",
   "metadata": {},
   "outputs": [],
   "source": [
    "response = requests.post(url, headers=header , data=data)"
   ]
  },
  {
   "cell_type": "code",
   "execution_count": 25,
   "id": "69d3ee17",
   "metadata": {},
   "outputs": [
    {
     "data": {
      "text/plain": [
       "400"
      ]
     },
     "execution_count": 25,
     "metadata": {},
     "output_type": "execute_result"
    }
   ],
   "source": [
    "response.status_code"
   ]
  }
 ],
 "metadata": {
  "kernelspec": {
   "display_name": "Python 3 (ipykernel)",
   "language": "python",
   "name": "python3"
  },
  "language_info": {
   "codemirror_mode": {
    "name": "ipython",
    "version": 3
   },
   "file_extension": ".py",
   "mimetype": "text/x-python",
   "name": "python",
   "nbconvert_exporter": "python",
   "pygments_lexer": "ipython3",
   "version": "3.10.4"
  }
 },
 "nbformat": 4,
 "nbformat_minor": 5
}
